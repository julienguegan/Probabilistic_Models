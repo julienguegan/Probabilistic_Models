{
 "cells": [
  {
   "cell_type": "code",
   "execution_count": 1,
   "metadata": {
    "ExecuteTime": {
     "end_time": "2020-06-09T14:19:45.313725Z",
     "start_time": "2020-06-09T14:19:33.260994Z"
    }
   },
   "outputs": [],
   "source": [
    "import numpy as np\n",
    "import matplotlib.pyplot as plt\n",
    "from scipy.io import loadmat\n",
    "from sklearn.utils import shuffle\n",
    "FILE = loadmat('binaryalphadigs.mat')"
   ]
  },
  {
   "cell_type": "code",
   "execution_count": 64,
   "metadata": {
    "ExecuteTime": {
     "end_time": "2020-06-09T14:33:42.879696Z",
     "start_time": "2020-06-09T14:33:42.845536Z"
    }
   },
   "outputs": [],
   "source": [
    "class RBM:\n",
    "    \n",
    "    def __init__(self, p, q):\n",
    "        self.a = np.zeros((1,p))\n",
    "        self.b = np.zeros((1,q))\n",
    "        self.w = 0.01 * np.random.rand(p,q)\n",
    "        \n",
    "    def entree_sortie(self, donnee):\n",
    "        n = donnee.shape[0]\n",
    "        sortie = 1 / (1 + np.exp(- self.b - donnee @ self.w ))\n",
    "        return sortie\n",
    "\n",
    "    def sortie_entree(self, donnee):\n",
    "        n = donnee.shape[0]\n",
    "        entree = 1 / (1 + np.exp(- self.a - donnee @ self.w.T))\n",
    "        return entree\n",
    "    \n",
    "    def train(self, donnee, n_hidden, n_iteration, learning_rate, size_batch):   \n",
    "        loss   = np.zeros(n_iteration)\n",
    "        donnee = shuffle(donnee)\n",
    "        n      = donnee.shape[0]\n",
    "        q      = n_hidden\n",
    "        p      = donnee.shape[1]\n",
    "    \n",
    "        for i in np.arange(0, n_iteration):\n",
    "        \n",
    "            for batch in np.arange(0, n, size_batch):\n",
    "            \n",
    "                index_batch = np.arange(batch, min(batch + size_batch,n))\n",
    "                x = donnee[index_batch,:]\n",
    "        \n",
    "                # tirage monte carlo\n",
    "                v_0   = x\n",
    "                p_hv0 = self.entree_sortie(v_0)\n",
    "                h_0   = (np.random.rand(v_0.shape[0], q) < p_hv0).astype('float')\n",
    "                p_vh0 = self.sortie_entree(h_0)\n",
    "                v_1   = (np.random.rand(v_0.shape[0], p) < p_vh0).astype('float')\n",
    "                p_hv1 = self.entree_sortie(v_1)\n",
    "            \n",
    "                # calcul gradient\n",
    "                d_a = np.sum(v_0 - v_1, axis=0) / v_0.shape[0]\n",
    "                d_b = np.sum(p_hv0 - p_hv1, axis=0) / v_0.shape[0]\n",
    "                d_W = (v_0.T @ p_hv0 - v_1.T @ p_hv1) / v_0.shape[0] # produit vectoriel\n",
    "\n",
    "                # mise a jour\n",
    "                self.a = self.a + learning_rate * d_a\n",
    "                self.b = self.b + learning_rate * d_b\n",
    "                self.w = self.w + learning_rate * d_W\n",
    "            \n",
    "            sortie = self.entree_sortie(donnee)\n",
    "            entree_reconstruite = self.sortie_entree(sortie)\n",
    "            loss[i] = np.sum((entree_reconstruite - donnee)**2)/(n*p)\n",
    "        \n",
    "        return RBM, loss\n",
    "\n",
    "    def generer_image(self, n_image, n_iteration, labels):\n",
    "    \n",
    "        p = self.w.shape[0]\n",
    "        q = self.w.shape[1]\n",
    "        plt.figure(figsize=(20,10))\n",
    "        for i in range(n_image):\n",
    "            v = (np.random.rand(p) < 0.5).astype('float')\n",
    "            for j in range(n_iteration):\n",
    "                h = (np.random.rand(q) < self.entree_sortie(v)).astype('float')\n",
    "                v = (np.random.rand(p) < self.sortie_entree(h)).astype('float')\n",
    "        \n",
    "            plt.subplot(int(n_image/5),5,i+1)\n",
    "            plt.imshow(1-v.reshape(20,16),cmap='gray')\n",
    "            plt.axis('off')\n",
    "        plt.suptitle(labels, fontsize=15)\n",
    "        plt.show()"
   ]
  },
  {
   "cell_type": "code",
   "execution_count": 3,
   "metadata": {
    "ExecuteTime": {
     "end_time": "2020-06-09T14:19:45.528908Z",
     "start_time": "2020-06-09T14:19:45.376190Z"
    }
   },
   "outputs": [],
   "source": [
    "def lire_alpha_digit(FILE_dat, idx):\n",
    "     \n",
    "    imgs = FILE_dat[idx,:].flatten()\n",
    "    imgs_flatten = []\n",
    "    for img in imgs:\n",
    "        imgs_flatten.append(img.flatten())\n",
    "    \n",
    "    return np.array(imgs_flatten)"
   ]
  },
  {
   "cell_type": "code",
   "execution_count": 69,
   "metadata": {
    "ExecuteTime": {
     "end_time": "2020-06-09T14:36:26.499219Z",
     "start_time": "2020-06-09T14:36:11.284734Z"
    }
   },
   "outputs": [
    {
     "data": {
      "image/png": "[encoded data removed]",
      "text/plain": [
       "<Figure size 432x288 with 1 Axes>"
      ]
     },
     "metadata": {
      "needs_background": "light"
     },
     "output_type": "display_data"
    }
   ],
   "source": [
    "index         = [10,11,12]\n",
    "donnee        = lire_alpha_digit(FILE['dat'], index)\n",
    "n_hidden      = 200\n",
    "n_iteration   = 1000\n",
    "learning_rate = 0.1\n",
    "size_batch    = 10\n",
    "RBM           = RBM(donnee.shape[1], n_hidden)\n",
    "RBM, loss     = RBM.train(donnee, n_hidden, n_iteration, learning_rate, size_batch)\n",
    "\n",
    "plt.plot(loss)\n",
    "plt.show()"
   ]
  },
  {
   "cell_type": "code",
   "execution_count": 76,
   "metadata": {
    "ExecuteTime": {
     "end_time": "2020-06-09T14:37:23.873838Z",
     "start_time": "2020-06-09T14:37:20.578777Z"
    }
   },
   "outputs": [
    {
     "data": {
      "image/png": "[encoded data removed]",
      "text/plain": [
       "<Figure size 1440x720 with 20 Axes>"
      ]
     },
     "metadata": {
      "needs_background": "light"
     },
     "output_type": "display_data"
    }
   ],
   "source": [
    "n_iteration = 1000\n",
    "n_image     = 20\n",
    "labels      = [char[0] for char in FILE['classlabels'][0,index]]\n",
    "RBM.generer_image(n_image, n_iteration, labels)"
   ]
  }
 ],
 "metadata": {
  "kernelspec": {
   "display_name": "Python 3",
   "language": "python",
   "name": "python3"
  },
  "language_info": {
   "codemirror_mode": {
    "name": "ipython",
    "version": 3
   },
   "file_extension": ".py",
   "mimetype": "text/x-python",
   "name": "python",
   "nbconvert_exporter": "python",
   "pygments_lexer": "ipython3",
   "version": "3.7.4"
  },
  "toc": {
   "base_numbering": 1,
   "nav_menu": {},
   "number_sections": true,
   "sideBar": true,
   "skip_h1_title": false,
   "title_cell": "Table of Contents",
   "title_sidebar": "Contents",
   "toc_cell": false,
   "toc_position": {},
   "toc_section_display": true,
   "toc_window_display": false
  },
  "varInspector": {
   "cols": {
    "lenName": 16,
    "lenType": 16,
    "lenVar": 40
   },
   "kernels_config": {
    "python": {
     "delete_cmd_postfix": "",
     "delete_cmd_prefix": "del ",
     "library": "var_list.py",
     "varRefreshCmd": "print(var_dic_list())"
    },
    "r": {
     "delete_cmd_postfix": ") ",
     "delete_cmd_prefix": "rm(",
     "library": "var_list.r",
     "varRefreshCmd": "cat(var_dic_list()) "
    }
   },
   "types_to_exclude": [
    "module",
    "function",
    "builtin_function_or_method",
    "instance",
    "_Feature"
   ],
   "window_display": false
  }
 },
 "nbformat": 4,
 "nbformat_minor": 2
}
